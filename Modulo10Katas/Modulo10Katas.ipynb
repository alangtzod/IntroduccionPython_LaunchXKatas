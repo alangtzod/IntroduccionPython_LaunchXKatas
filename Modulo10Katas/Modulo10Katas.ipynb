{
 "cells": [
  {
   "cell_type": "markdown",
   "metadata": {},
   "source": [
    "### Tracebacks\n",
    "\n",
    "Un traceback es el cuerpo del texto que puede apuntar al origen (y al final) de un error no controlado."
   ]
  },
  {
   "cell_type": "code",
   "execution_count": 1,
   "metadata": {},
   "outputs": [
    {
     "ename": "FileNotFoundError",
     "evalue": "[Errno 2] No such file or directory: '/path/to/mars.jpg'",
     "output_type": "error",
     "traceback": [
      "\u001b[1;31m---------------------------------------------------------------------------\u001b[0m",
      "\u001b[1;31mFileNotFoundError\u001b[0m                         Traceback (most recent call last)",
      "\u001b[1;32mc:\\Users\\alang\\Downloads\\Modulo10Katas.ipynb Cell 2'\u001b[0m in \u001b[0;36m<module>\u001b[1;34m\u001b[0m\n\u001b[1;32m----> <a href='vscode-notebook-cell:/c%3A/Users/alang/Downloads/Modulo10Katas.ipynb#ch0000003?line=0'>1</a>\u001b[0m \u001b[39mopen\u001b[39;49m(\u001b[39m\"\u001b[39;49m\u001b[39m/path/to/mars.jpg\u001b[39;49m\u001b[39m\"\u001b[39;49m)\n",
      "\u001b[1;31mFileNotFoundError\u001b[0m: [Errno 2] No such file or directory: '/path/to/mars.jpg'"
     ]
    }
   ],
   "source": [
    "open(\"/path/to/mars.jpg\")"
   ]
  },
  {
   "cell_type": "markdown",
   "metadata": {},
   "source": [
    "(consultar open.py)"
   ]
  },
  {
   "cell_type": "markdown",
   "metadata": {},
   "source": [
    "### Controlando las excepciones\n",
    "\n",
    "Cuando encuentres por primera vez excepciones que muestren tracebacks grandes como salida, es posible que te veas tentado a detectar todos los errores para evitar que esto suceda.\n",
    "\n",
    "Si estás en una misión a Marte, ¿Qué podrías hacer si un texto del sistema de navegación dice 'Se ha producido un error'? Imagina que no hay ninguna más información ni contexto, simplemente una luz roja parpadeante con el texto del error. Como desarrollador, resulta útil ponerse al otro lado del programa: ¿Qué puede hacer un usuario cuando se produce un error?\n",
    "\n",
    "Aunque en este módulo se explica cómo controlar las excepciones detectándolas, no es necesario detectar las excepciones todo el tiempo. A veces resulta útil permitir que se puedan generar excepciones para que otros autores de llamadas puedan tratar los errores."
   ]
  },
  {
   "cell_type": "markdown",
   "metadata": {},
   "source": [
    "#### Try y Except\n",
    "\n",
    "Sabemos que, si no existe un archivo o directorio, se genera FileNotFoundError. Si queremos controlar esa excepción, podemos hacerlo con un bloque try y except"
   ]
  },
  {
   "cell_type": "code",
   "execution_count": 1,
   "metadata": {},
   "outputs": [
    {
     "name": "stdout",
     "output_type": "stream",
     "text": [
      "No se logro encontrar el archivo config.txt!\n"
     ]
    }
   ],
   "source": [
    "try:\n",
    "    open('config.txt')\n",
    "except FileNotFoundError:\n",
    "    print(\"No se logro encontrar el archivo config.txt!\")"
   ]
  },
  {
   "cell_type": "markdown",
   "metadata": {},
   "source": [
    "Después de la palabra clave try, agregamos código que tenga la posibilidad de producir una excepción. A continuación, agregamos la palabra clave except junto con la posible excepción, seguida de cualquier código que deba ejecutarse cuando se produce esa condición. Puesto que config.txt no existe en el sistema, Python imprime que el archivo de configuración no está ahí. El bloque try y except, junto con un mensaje útil, evita un seguimiento y sigue informando al usuario sobre el problema."
   ]
  },
  {
   "cell_type": "markdown",
   "metadata": {},
   "source": [
    "Si necesitas acceder al error asociado a la excepción, debes actualizar la línea except para incluir la palabra clave as. Esta técnica es práctica si una excepción es demasiado genérica y el mensaje de error puede ser útil"
   ]
  },
  {
   "cell_type": "code",
   "execution_count": 2,
   "metadata": {},
   "outputs": [
    {
     "name": "stdout",
     "output_type": "stream",
     "text": [
      "Hay un problema al intentar leer el archivo: [Errno 2] No such file or directory: 'mars.jpg'\n"
     ]
    }
   ],
   "source": [
    "try:\n",
    "    open(\"mars.jpg\")\n",
    "except FileNotFoundError as err:\n",
    "    print(\"Hay un problema al intentar leer el archivo:\", err)"
   ]
  },
  {
   "cell_type": "markdown",
   "metadata": {},
   "source": [
    "En este caso, as err significa que err se convierte en una variable con el objeto de excepción como valor. Después, usa este valor para imprimir el mensaje de error asociado a la excepción. Otra razón para usar esta técnica es acceder directamente a los atributos del error. \n",
    "\n",
    "Por ejemplo, si detecta una excepción OSError más genérica, que es la excepción primaria de FilenotFoundError y PermissionError, podemos diferenciarlas mediante el atributo .errno"
   ]
  },
  {
   "cell_type": "code",
   "execution_count": 3,
   "metadata": {},
   "outputs": [
    {
     "name": "stdout",
     "output_type": "stream",
     "text": [
      "No se logro encontrar el archivo config.txt!\n"
     ]
    }
   ],
   "source": [
    "try:\n",
    "    open(\"config.txt\")\n",
    "except OSError as err:\n",
    "    if err.errno == 2:\n",
    "        print(\"No se logro encontrar el archivo config.txt!\")\n",
    "    elif err.errno == 13:\n",
    "        print(\"Se encontro el archivo config.txt, pero no puede leerse\")"
   ]
  },
  {
   "cell_type": "markdown",
   "metadata": {},
   "source": [
    "Intenta usar siempre la técnica que proporcione la mejor legibilidad para el código y que ayude a mantenerlo en el futuro. A veces es necesario usar código menos legible para ofrecer una mejor experiencia de usuario cuando se produce un error.\n",
    "\n",
    "(consultar config.py)"
   ]
  },
  {
   "cell_type": "markdown",
   "metadata": {},
   "source": [
    "### Generación de excepciones\n",
    "\n",
    "Resulta útil generar excepciones que permitan que otro código comprenda cuál es el problema.\n",
    "\n",
    "La generación de excepciones también puede ayudar en la toma de decisiones para otro código. Como hemos visto antes, en función del error, el código puede tomar decisiones inteligentes para resolver, solucionar o ignorar un problema.\n",
    "\n",
    "Ejemplo: Los astronautas limitan su uso de agua a unos 11 litros al día. Vamos a crear una función que, con base al número de astronautas, pueda calcular la cantidad de agua quedará después de un día o más"
   ]
  },
  {
   "cell_type": "code",
   "execution_count": 17,
   "metadata": {},
   "outputs": [],
   "source": [
    "def waterLeft1(astro, waterL, daysL):\n",
    "    dailyU = astro * 11\n",
    "    totalU = dailyU * daysL\n",
    "    totalWL = waterL - totalU\n",
    "    return f\"El agua total que queda después de {daysL} dias son {totalWL} litros\""
   ]
  },
  {
   "cell_type": "code",
   "execution_count": 18,
   "metadata": {},
   "outputs": [
    {
     "data": {
      "text/plain": [
       "'El agua total que queda después de 2 dias son -10 litros'"
      ]
     },
     "execution_count": 18,
     "metadata": {},
     "output_type": "execute_result"
    }
   ],
   "source": [
    "waterLeft1(5, 100, 2)"
   ]
  },
  {
   "cell_type": "markdown",
   "metadata": {},
   "source": [
    "Esto no es muy útil, ya que una carencia en los litros sería un error.\n",
    "\n",
    "Después, el sistema de navegación podría alertar a los astronautas que no habrá suficiente agua para todos en dos días. Si eres un ingeniero que programa el sistema de navegación, podrías generar una excepción en la función water_left() para alertar de la condición de error"
   ]
  },
  {
   "cell_type": "code",
   "execution_count": 19,
   "metadata": {},
   "outputs": [],
   "source": [
    "def waterLeft2(astro, waterL, daysL):\n",
    "    dailyU = astro * 11\n",
    "    totalU = dailyU * daysL\n",
    "    totalWL = waterL - totalU\n",
    "    \n",
    "    if totalWL < 0: # Si el agua total es menos a 0 litros\n",
    "        raise RuntimeError(f\"No hay suficiente agua para {astro} astronautas para después de {daysL} dias!\")\n",
    "    return f\"Agua total que queda después de {daysL} dias son {totalWL} litros\""
   ]
  },
  {
   "cell_type": "code",
   "execution_count": 20,
   "metadata": {},
   "outputs": [
    {
     "ename": "RuntimeError",
     "evalue": "No hay suficiente agua para 5 astronautas para después de 2 dias!",
     "output_type": "error",
     "traceback": [
      "\u001b[1;31m---------------------------------------------------------------------------\u001b[0m",
      "\u001b[1;31mRuntimeError\u001b[0m                              Traceback (most recent call last)",
      "\u001b[1;32me:\\ARCHIVOS\\Programacion\\Python\\LaunchX\\Modulo10Katas\\Modulo10Katas.ipynb Cell 18'\u001b[0m in \u001b[0;36m<module>\u001b[1;34m\u001b[0m\n\u001b[1;32m----> <a href='vscode-notebook-cell:/e%3A/ARCHIVOS/Programacion/Python/LaunchX/Modulo10Katas/Modulo10Katas.ipynb#ch0000017?line=0'>1</a>\u001b[0m waterLeft2(\u001b[39m5\u001b[39;49m, \u001b[39m100\u001b[39;49m, \u001b[39m2\u001b[39;49m)\n",
      "\u001b[1;32me:\\ARCHIVOS\\Programacion\\Python\\LaunchX\\Modulo10Katas\\Modulo10Katas.ipynb Cell 17'\u001b[0m in \u001b[0;36mwaterLeft2\u001b[1;34m(astro, waterL, daysL)\u001b[0m\n\u001b[0;32m      <a href='vscode-notebook-cell:/e%3A/ARCHIVOS/Programacion/Python/LaunchX/Modulo10Katas/Modulo10Katas.ipynb#ch0000016?line=3'>4</a>\u001b[0m totalWL \u001b[39m=\u001b[39m waterL \u001b[39m-\u001b[39m totalU\n\u001b[0;32m      <a href='vscode-notebook-cell:/e%3A/ARCHIVOS/Programacion/Python/LaunchX/Modulo10Katas/Modulo10Katas.ipynb#ch0000016?line=5'>6</a>\u001b[0m \u001b[39mif\u001b[39;00m totalWL \u001b[39m<\u001b[39m \u001b[39m0\u001b[39m: \u001b[39m# Si el agua total es menos a 0 litros\u001b[39;00m\n\u001b[1;32m----> <a href='vscode-notebook-cell:/e%3A/ARCHIVOS/Programacion/Python/LaunchX/Modulo10Katas/Modulo10Katas.ipynb#ch0000016?line=6'>7</a>\u001b[0m     \u001b[39mraise\u001b[39;00m \u001b[39mRuntimeError\u001b[39;00m(\u001b[39mf\u001b[39m\u001b[39m\"\u001b[39m\u001b[39mNo hay suficiente agua para \u001b[39m\u001b[39m{\u001b[39;00mastro\u001b[39m}\u001b[39;00m\u001b[39m astronautas para después de \u001b[39m\u001b[39m{\u001b[39;00mdaysL\u001b[39m}\u001b[39;00m\u001b[39m dias!\u001b[39m\u001b[39m\"\u001b[39m)\n\u001b[0;32m      <a href='vscode-notebook-cell:/e%3A/ARCHIVOS/Programacion/Python/LaunchX/Modulo10Katas/Modulo10Katas.ipynb#ch0000016?line=7'>8</a>\u001b[0m \u001b[39mreturn\u001b[39;00m \u001b[39mf\u001b[39m\u001b[39m\"\u001b[39m\u001b[39mAgua total que queda después de \u001b[39m\u001b[39m{\u001b[39;00mdaysL\u001b[39m}\u001b[39;00m\u001b[39m dias son \u001b[39m\u001b[39m{\u001b[39;00mtotalWL\u001b[39m}\u001b[39;00m\u001b[39m litros\u001b[39m\u001b[39m\"\u001b[39m\n",
      "\u001b[1;31mRuntimeError\u001b[0m: No hay suficiente agua para 5 astronautas para después de 2 dias!"
     ]
    }
   ],
   "source": [
    "waterLeft2(5, 100, 2)"
   ]
  },
  {
   "cell_type": "markdown",
   "metadata": {},
   "source": [
    "La función water_left() también se puede actualizar para evitar el paso de tipos no admitidos. Intenta pasar argumentos que no sean enteros para comprobar la salida de error"
   ]
  },
  {
   "cell_type": "code",
   "execution_count": 22,
   "metadata": {},
   "outputs": [
    {
     "ename": "TypeError",
     "evalue": "can't multiply sequence by non-int of type 'NoneType'",
     "output_type": "error",
     "traceback": [
      "\u001b[1;31m---------------------------------------------------------------------------\u001b[0m",
      "\u001b[1;31mTypeError\u001b[0m                                 Traceback (most recent call last)",
      "\u001b[1;32me:\\ARCHIVOS\\Programacion\\Python\\LaunchX\\Modulo10Katas\\Modulo10Katas.ipynb Cell 20'\u001b[0m in \u001b[0;36m<module>\u001b[1;34m\u001b[0m\n\u001b[1;32m----> <a href='vscode-notebook-cell:/e%3A/ARCHIVOS/Programacion/Python/LaunchX/Modulo10Katas/Modulo10Katas.ipynb#ch0000021?line=0'>1</a>\u001b[0m waterLeft2(\u001b[39m\"\u001b[39;49m\u001b[39m3\u001b[39;49m\u001b[39m\"\u001b[39;49m, \u001b[39m\"\u001b[39;49m\u001b[39m200\u001b[39;49m\u001b[39m\"\u001b[39;49m, \u001b[39mNone\u001b[39;49;00m)\n",
      "\u001b[1;32me:\\ARCHIVOS\\Programacion\\Python\\LaunchX\\Modulo10Katas\\Modulo10Katas.ipynb Cell 17'\u001b[0m in \u001b[0;36mwaterLeft2\u001b[1;34m(astro, waterL, daysL)\u001b[0m\n\u001b[0;32m      <a href='vscode-notebook-cell:/e%3A/ARCHIVOS/Programacion/Python/LaunchX/Modulo10Katas/Modulo10Katas.ipynb#ch0000016?line=0'>1</a>\u001b[0m \u001b[39mdef\u001b[39;00m \u001b[39mwaterLeft2\u001b[39m(astro, waterL, daysL):\n\u001b[0;32m      <a href='vscode-notebook-cell:/e%3A/ARCHIVOS/Programacion/Python/LaunchX/Modulo10Katas/Modulo10Katas.ipynb#ch0000016?line=1'>2</a>\u001b[0m     dailyU \u001b[39m=\u001b[39m astro \u001b[39m*\u001b[39m \u001b[39m11\u001b[39m\n\u001b[1;32m----> <a href='vscode-notebook-cell:/e%3A/ARCHIVOS/Programacion/Python/LaunchX/Modulo10Katas/Modulo10Katas.ipynb#ch0000016?line=2'>3</a>\u001b[0m     totalU \u001b[39m=\u001b[39m dailyU \u001b[39m*\u001b[39;49m daysL\n\u001b[0;32m      <a href='vscode-notebook-cell:/e%3A/ARCHIVOS/Programacion/Python/LaunchX/Modulo10Katas/Modulo10Katas.ipynb#ch0000016?line=3'>4</a>\u001b[0m     totalWL \u001b[39m=\u001b[39m waterL \u001b[39m-\u001b[39m totalU\n\u001b[0;32m      <a href='vscode-notebook-cell:/e%3A/ARCHIVOS/Programacion/Python/LaunchX/Modulo10Katas/Modulo10Katas.ipynb#ch0000016?line=5'>6</a>\u001b[0m     \u001b[39mif\u001b[39;00m totalWL \u001b[39m<\u001b[39m \u001b[39m0\u001b[39m: \u001b[39m# Si el agua total es menos a 0 litros\u001b[39;00m\n",
      "\u001b[1;31mTypeError\u001b[0m: can't multiply sequence by non-int of type 'NoneType'"
     ]
    }
   ],
   "source": [
    "waterLeft2(\"3\", \"200\", None)"
   ]
  },
  {
   "cell_type": "markdown",
   "metadata": {},
   "source": [
    "El error de TypeError no es muy descriptivo en el contexto de lo que espera la función. Actualizaremos la función para que use TypeError, pero con un mensaje mejor"
   ]
  },
  {
   "cell_type": "code",
   "execution_count": 23,
   "metadata": {},
   "outputs": [],
   "source": [
    "def waterL3(astro, waterL, daysL):\n",
    "    for argument in [astro, waterL, daysL]:\n",
    "        try: # Si el argumento es un int, entra aqui\n",
    "            argument / 10\n",
    "        except TypeError: # TypError se generará solo si no es del tipo correcto\n",
    "            # Genera la misma excepción pero con un mejor mensaje de error\n",
    "            raise TypeError(f\"Todos los argumentos deben ser de tipo int, pero recibi: '{argument}'\")\n",
    "    daily_usage = astro * 11\n",
    "    total_usage = daily_usage * daysL\n",
    "    totalWL = waterL - total_usage\n",
    "    if totalWL < 0:\n",
    "        raise RuntimeError(f\"No hay suficiente agua para {astro} astronautas para después de {daysL} dias!\")\n",
    "    return f\"Agua total que queda después de {daysL} dias son {totalWL} litros\""
   ]
  },
  {
   "cell_type": "code",
   "execution_count": 24,
   "metadata": {},
   "outputs": [
    {
     "ename": "TypeError",
     "evalue": "Todos los argumentos deben ser de tipo int, pero recibi: '3'",
     "output_type": "error",
     "traceback": [
      "\u001b[1;31m---------------------------------------------------------------------------\u001b[0m",
      "\u001b[1;31mTypeError\u001b[0m                                 Traceback (most recent call last)",
      "\u001b[1;32me:\\ARCHIVOS\\Programacion\\Python\\LaunchX\\Modulo10Katas\\Modulo10Katas.ipynb Cell 22'\u001b[0m in \u001b[0;36mwaterL3\u001b[1;34m(astro, waterL, daysL)\u001b[0m\n\u001b[0;32m      <a href='vscode-notebook-cell:/e%3A/ARCHIVOS/Programacion/Python/LaunchX/Modulo10Katas/Modulo10Katas.ipynb#ch0000023?line=2'>3</a>\u001b[0m \u001b[39mtry\u001b[39;00m: \u001b[39m# Si el argumento es un int, entra aqui\u001b[39;00m\n\u001b[1;32m----> <a href='vscode-notebook-cell:/e%3A/ARCHIVOS/Programacion/Python/LaunchX/Modulo10Katas/Modulo10Katas.ipynb#ch0000023?line=3'>4</a>\u001b[0m     argument \u001b[39m/\u001b[39;49m \u001b[39m10\u001b[39;49m\n\u001b[0;32m      <a href='vscode-notebook-cell:/e%3A/ARCHIVOS/Programacion/Python/LaunchX/Modulo10Katas/Modulo10Katas.ipynb#ch0000023?line=4'>5</a>\u001b[0m \u001b[39mexcept\u001b[39;00m \u001b[39mTypeError\u001b[39;00m: \u001b[39m# TypError se generará solo si no es del tipo correcto\u001b[39;00m\n\u001b[0;32m      <a href='vscode-notebook-cell:/e%3A/ARCHIVOS/Programacion/Python/LaunchX/Modulo10Katas/Modulo10Katas.ipynb#ch0000023?line=5'>6</a>\u001b[0m     \u001b[39m# Genera la misma excepción pero con un mejor mensaje de error\u001b[39;00m\n",
      "\u001b[1;31mTypeError\u001b[0m: unsupported operand type(s) for /: 'str' and 'int'",
      "\nDuring handling of the above exception, another exception occurred:\n",
      "\u001b[1;31mTypeError\u001b[0m                                 Traceback (most recent call last)",
      "\u001b[1;32me:\\ARCHIVOS\\Programacion\\Python\\LaunchX\\Modulo10Katas\\Modulo10Katas.ipynb Cell 23'\u001b[0m in \u001b[0;36m<module>\u001b[1;34m\u001b[0m\n\u001b[1;32m----> <a href='vscode-notebook-cell:/e%3A/ARCHIVOS/Programacion/Python/LaunchX/Modulo10Katas/Modulo10Katas.ipynb#ch0000024?line=0'>1</a>\u001b[0m waterL3(\u001b[39m\"\u001b[39;49m\u001b[39m3\u001b[39;49m\u001b[39m\"\u001b[39;49m, \u001b[39m\"\u001b[39;49m\u001b[39m200\u001b[39;49m\u001b[39m\"\u001b[39;49m, \u001b[39mNone\u001b[39;49;00m)\n",
      "\u001b[1;32me:\\ARCHIVOS\\Programacion\\Python\\LaunchX\\Modulo10Katas\\Modulo10Katas.ipynb Cell 22'\u001b[0m in \u001b[0;36mwaterL3\u001b[1;34m(astro, waterL, daysL)\u001b[0m\n\u001b[0;32m      <a href='vscode-notebook-cell:/e%3A/ARCHIVOS/Programacion/Python/LaunchX/Modulo10Katas/Modulo10Katas.ipynb#ch0000023?line=3'>4</a>\u001b[0m         argument \u001b[39m/\u001b[39m \u001b[39m10\u001b[39m\n\u001b[0;32m      <a href='vscode-notebook-cell:/e%3A/ARCHIVOS/Programacion/Python/LaunchX/Modulo10Katas/Modulo10Katas.ipynb#ch0000023?line=4'>5</a>\u001b[0m     \u001b[39mexcept\u001b[39;00m \u001b[39mTypeError\u001b[39;00m: \u001b[39m# TypError se generará solo si no es del tipo correcto\u001b[39;00m\n\u001b[0;32m      <a href='vscode-notebook-cell:/e%3A/ARCHIVOS/Programacion/Python/LaunchX/Modulo10Katas/Modulo10Katas.ipynb#ch0000023?line=5'>6</a>\u001b[0m         \u001b[39m# Genera la misma excepción pero con un mejor mensaje de error\u001b[39;00m\n\u001b[1;32m----> <a href='vscode-notebook-cell:/e%3A/ARCHIVOS/Programacion/Python/LaunchX/Modulo10Katas/Modulo10Katas.ipynb#ch0000023?line=6'>7</a>\u001b[0m         \u001b[39mraise\u001b[39;00m \u001b[39mTypeError\u001b[39;00m(\u001b[39mf\u001b[39m\u001b[39m\"\u001b[39m\u001b[39mTodos los argumentos deben ser de tipo int, pero recibi: \u001b[39m\u001b[39m'\u001b[39m\u001b[39m{\u001b[39;00margument\u001b[39m}\u001b[39;00m\u001b[39m'\u001b[39m\u001b[39m\"\u001b[39m)\n\u001b[0;32m      <a href='vscode-notebook-cell:/e%3A/ARCHIVOS/Programacion/Python/LaunchX/Modulo10Katas/Modulo10Katas.ipynb#ch0000023?line=7'>8</a>\u001b[0m daily_usage \u001b[39m=\u001b[39m astro \u001b[39m*\u001b[39m \u001b[39m11\u001b[39m\n\u001b[0;32m      <a href='vscode-notebook-cell:/e%3A/ARCHIVOS/Programacion/Python/LaunchX/Modulo10Katas/Modulo10Katas.ipynb#ch0000023?line=8'>9</a>\u001b[0m total_usage \u001b[39m=\u001b[39m daily_usage \u001b[39m*\u001b[39m daysL\n",
      "\u001b[1;31mTypeError\u001b[0m: Todos los argumentos deben ser de tipo int, pero recibi: '3'"
     ]
    }
   ],
   "source": [
    "waterL3(\"3\", \"200\", None)"
   ]
  }
 ],
 "metadata": {
  "interpreter": {
   "hash": "62b8e38797574a9de3c3f9bc79729bb88e3b9c6776c95587f79be5c56a9bdc90"
  },
  "kernelspec": {
   "display_name": "Python 3.10.2 64-bit",
   "language": "python",
   "name": "python3"
  },
  "language_info": {
   "codemirror_mode": {
    "name": "ipython",
    "version": 3
   },
   "file_extension": ".py",
   "mimetype": "text/x-python",
   "name": "python",
   "nbconvert_exporter": "python",
   "pygments_lexer": "ipython3",
   "version": "3.10.2"
  },
  "orig_nbformat": 4
 },
 "nbformat": 4,
 "nbformat_minor": 2
}
